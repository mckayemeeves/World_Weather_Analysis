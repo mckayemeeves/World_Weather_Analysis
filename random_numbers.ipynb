{
 "cells": [
  {
   "cell_type": "code",
   "execution_count": 1,
   "id": "bad94002",
   "metadata": {},
   "outputs": [],
   "source": [
    "import random"
   ]
  },
  {
   "cell_type": "code",
   "execution_count": 2,
   "id": "e8b48baa",
   "metadata": {},
   "outputs": [
    {
     "data": {
      "text/plain": [
       "21"
      ]
     },
     "execution_count": 2,
     "metadata": {},
     "output_type": "execute_result"
    }
   ],
   "source": [
    "random.randint(-90, 90)"
   ]
  },
  {
   "cell_type": "code",
   "execution_count": 3,
   "id": "5bd2fdcc",
   "metadata": {},
   "outputs": [
    {
     "data": {
      "text/plain": [
       "0.06697035301517984"
      ]
     },
     "execution_count": 3,
     "metadata": {},
     "output_type": "execute_result"
    }
   ],
   "source": [
    "random.random()"
   ]
  },
  {
   "cell_type": "code",
   "execution_count": 4,
   "id": "5feff016",
   "metadata": {},
   "outputs": [
    {
     "data": {
      "text/plain": [
       "-87.87310889706315"
      ]
     },
     "execution_count": 4,
     "metadata": {},
     "output_type": "execute_result"
    }
   ],
   "source": [
    "random_number = random.randint(-90, 89) + random.random()\n",
    "random_number"
   ]
  },
  {
   "cell_type": "code",
   "execution_count": 8,
   "id": "fb25e47b",
   "metadata": {},
   "outputs": [
    {
     "name": "stdout",
     "output_type": "stream",
     "text": [
      "[-14.869837817463695, 38.16081915471441, -42.39017874825957, 24.142576223715878, 70.94467232227082, -17.231846423930133, -32.276174349345574, 66.87565305644557, -35.94857882185782, -79.23359565544449]\n"
     ]
    }
   ],
   "source": [
    "# assign the variable x to 1\n",
    "x = 1\n",
    "# initialize an empty list\n",
    "latitudes = []\n",
    "# create a while loop where we generate a random latitude and add it to the list\n",
    "while x < 11:\n",
    "    random_lat = random.randint(-90, 89) + random.random()\n",
    "    # after the random latitude is added to the list we add one to the variable \"x\"\n",
    "    latitudes.append(random_lat)\n",
    "    # the while loop is checked again and will continue to run as long as x is less than 11\n",
    "    x += 1\n",
    "print(latitudes)"
   ]
  },
  {
   "cell_type": "code",
   "execution_count": 18,
   "id": "e6f33615",
   "metadata": {},
   "outputs": [
    {
     "data": {
      "text/plain": [
       "89"
      ]
     },
     "execution_count": 18,
     "metadata": {},
     "output_type": "execute_result"
    }
   ],
   "source": [
    "# step is the difference between each number in the sequence\n",
    "random.randrange(-90, 90, step=1)"
   ]
  },
  {
   "cell_type": "code",
   "execution_count": 19,
   "id": "274dbd32",
   "metadata": {},
   "outputs": [
    {
     "data": {
      "text/plain": [
       "-45"
      ]
     },
     "execution_count": 19,
     "metadata": {},
     "output_type": "execute_result"
    }
   ],
   "source": [
    "random.randrange(-90, 90, step = 3)"
   ]
  },
  {
   "cell_type": "code",
   "execution_count": 21,
   "id": "42bebaee",
   "metadata": {},
   "outputs": [
    {
     "data": {
      "text/plain": [
       "-15.00292677450706"
      ]
     },
     "execution_count": 21,
     "metadata": {},
     "output_type": "execute_result"
    }
   ],
   "source": [
    "#generates a floating-point ecimal number between two given numbers indies the parentheses\n",
    "random.uniform(-90, 90)"
   ]
  },
  {
   "cell_type": "code",
   "execution_count": 22,
   "id": "5bdbb52b",
   "metadata": {},
   "outputs": [],
   "source": [
    "# import the numpy module and save it to an alias\n",
    "import numpy as np"
   ]
  },
  {
   "cell_type": "code",
   "execution_count": 23,
   "id": "fb7e7c1c",
   "metadata": {},
   "outputs": [
    {
     "data": {
      "text/plain": [
       "38.64891708538397"
      ]
     },
     "execution_count": 23,
     "metadata": {},
     "output_type": "execute_result"
    }
   ],
   "source": [
    "#generates floating point decimal number between -90.000 and 90.000. Adding the zeros is optional\n",
    "# contains a lower boundary and an upper boundary\n",
    "np.random.uniform(-90.000, 90.000)"
   ]
  },
  {
   "cell_type": "code",
   "execution_count": 24,
   "id": "0036cefd",
   "metadata": {},
   "outputs": [
    {
     "data": {
      "text/plain": [
       "33.572741436874836"
      ]
     },
     "execution_count": 24,
     "metadata": {},
     "output_type": "execute_result"
    }
   ],
   "source": [
    "# another option to write the same thing as above:\n",
    "np.random.uniform(low=-90, high=90)"
   ]
  },
  {
   "cell_type": "code",
   "execution_count": 25,
   "id": "d616de2b",
   "metadata": {},
   "outputs": [
    {
     "data": {
      "text/plain": [
       "array([-63.6311539 , -47.36840851,   2.45530878,  13.17925385,\n",
       "        12.25580513,  84.16031952,  71.29072059, -19.21198435,\n",
       "        66.85868186, -26.08153467,  -3.88827618,  45.59244764,\n",
       "       -62.32968737,  17.13021894, -52.57845268, -23.67202215,\n",
       "       -64.91555827, -48.21555693,  55.47825906,  86.89051102,\n",
       "       -46.30538038,  17.75533095,  48.04158805, -46.0059217 ,\n",
       "       -63.14345282, -72.88029736,  -6.66763635, -35.15820045,\n",
       "       -42.44314439,  85.10193637,  86.04304796, -26.90255096,\n",
       "        78.6008408 , -33.80630798,  12.89733025, -62.99692033,\n",
       "        16.73836946, -60.38470432, -72.66815959, -47.10573751,\n",
       "        82.88026169, -75.45237749,  13.61668542, -84.78139439,\n",
       "        55.79232762, -61.75116375,  34.23795224,  22.85010104,\n",
       "       -65.22677296,  33.3885475 ])"
      ]
     },
     "execution_count": 25,
     "metadata": {},
     "output_type": "execute_result"
    }
   ],
   "source": [
    "np.random.uniform(-90.000, 90.000, size=50)"
   ]
  },
  {
   "cell_type": "code",
   "execution_count": 26,
   "id": "f2f4a787",
   "metadata": {},
   "outputs": [],
   "source": [
    "# import timeit\n",
    "import timeit"
   ]
  },
  {
   "cell_type": "code",
   "execution_count": 28,
   "id": "1ff87f7d",
   "metadata": {},
   "outputs": [
    {
     "name": "stdout",
     "output_type": "stream",
     "text": [
      "19.7 µs ± 286 ns per loop (mean ± std. dev. of 7 runs, 10,000 loops each)\n"
     ]
    }
   ],
   "source": [
    "# µs means microsecond\n",
    "%timeit np.random.uniform(-90.000, 90.000, size=1500)"
   ]
  },
  {
   "cell_type": "code",
   "execution_count": 29,
   "id": "fe0e6166",
   "metadata": {},
   "outputs": [
    {
     "name": "stdout",
     "output_type": "stream",
     "text": [
      "2.02 ms ± 67.1 µs per loop (mean ± std. dev. of 7 runs, 100 loops each)\n"
     ]
    }
   ],
   "source": [
    "def latitudes(size):\n",
    "    latitudes = []\n",
    "    x = 0\n",
    "    while x < (size):\n",
    "        random_lat = random.randint(-90, 90) + random.random()\n",
    "        latitudes.append(random_lat)\n",
    "        x += 1\n",
    "    return latitudes\n",
    "# Call the function with 1500.\n",
    "%timeit latitudes(1500)"
   ]
  },
  {
   "cell_type": "code",
   "execution_count": null,
   "id": "892c89ec",
   "metadata": {},
   "outputs": [],
   "source": []
  }
 ],
 "metadata": {
  "kernelspec": {
   "display_name": "PythonData",
   "language": "python",
   "name": "pythondata"
  },
  "language_info": {
   "codemirror_mode": {
    "name": "ipython",
    "version": 3
   },
   "file_extension": ".py",
   "mimetype": "text/x-python",
   "name": "python",
   "nbconvert_exporter": "python",
   "pygments_lexer": "ipython3",
   "version": "3.9.12"
  }
 },
 "nbformat": 4,
 "nbformat_minor": 5
}
